{
 "cells": [
  {
   "cell_type": "markdown",
   "metadata": {},
   "source": [
    "***Creating a new directory with python***"
   ]
  },
  {
   "cell_type": "code",
   "execution_count": 1,
   "metadata": {},
   "outputs": [],
   "source": [
    "import os\n",
    "import shutil"
   ]
  },
  {
   "cell_type": "code",
   "execution_count": 2,
   "metadata": {},
   "outputs": [
    {
     "name": "stdout",
     "output_type": "stream",
     "text": [
      "Directory 'NewDirectory' created.\n"
     ]
    }
   ],
   "source": [
    "new_directory = \"NewDirectory\"\n",
    "if not os.path.exists(new_directory):\n",
    "    os.mkdir(new_directory)\n",
    "    print(f\"Directory '{new_directory}' created.\")\n",
    "else:\n",
    "    print(f\"Directory '{new_directory}' already exists.\")"
   ]
  },
  {
   "cell_type": "code",
   "execution_count": 4,
   "metadata": {},
   "outputs": [
    {
     "name": "stdout",
     "output_type": "stream",
     "text": [
      "\n",
      "Current working directory:\n",
      ".git\n",
      "fileoperation_Via_py.ipynb\n",
      "main.py\n",
      "main2.py\n",
      "NewDirectory\n",
      "newfile\n",
      "numpy_1.ipynb\n",
      "scraping.ipynb\n"
     ]
    }
   ],
   "source": [
    "print(\"\\nCurrent working directory:\")\n",
    "for item in os.listdir():\n",
    "    print(item)"
   ]
  },
  {
   "cell_type": "code",
   "execution_count": 6,
   "metadata": {},
   "outputs": [
    {
     "name": "stdout",
     "output_type": "stream",
     "text": [
      "\n",
      "File 'NewDirectory\\New.txt' created and content written.\n"
     ]
    }
   ],
   "source": [
    "file_path = os.path.join(new_directory, \"New.txt\")\n",
    "with open(file_path, \"w\") as file:\n",
    "    file.write(\"Hi this Sanskar Sharma\")\n",
    "print(f\"\\nFile '{file_path}' created and content written.\")"
   ]
  },
  {
   "cell_type": "code",
   "execution_count": 7,
   "metadata": {},
   "outputs": [
    {
     "name": "stdout",
     "output_type": "stream",
     "text": [
      "\n",
      "Content of 'NewDirectory\\New.txt':\n",
      "Hi this Sanskar Sharma\n"
     ]
    }
   ],
   "source": [
    "with open(file_path, \"r\") as file:\n",
    "    content = file.read()\n",
    "print(f\"\\nContent of '{file_path}':\")\n",
    "print(content)"
   ]
  },
  {
   "cell_type": "code",
   "execution_count": 10,
   "metadata": {},
   "outputs": [
    {
     "ename": "FileNotFoundError",
     "evalue": "[WinError 2] The system cannot find the file specified: 'NewDirectory\\\\New.txt' -> 'NewDirectory\\\\New_Sanskartxt'",
     "output_type": "error",
     "traceback": [
      "\u001b[1;31m---------------------------------------------------------------------------\u001b[0m",
      "\u001b[1;31mFileNotFoundError\u001b[0m                         Traceback (most recent call last)",
      "Cell \u001b[1;32mIn[10], line 2\u001b[0m\n\u001b[0;32m      1\u001b[0m renamed_file \u001b[38;5;241m=\u001b[39m os\u001b[38;5;241m.\u001b[39mpath\u001b[38;5;241m.\u001b[39mjoin(new_directory, \u001b[38;5;124m\"\u001b[39m\u001b[38;5;124mNew_Sanskartxt\u001b[39m\u001b[38;5;124m\"\u001b[39m)\n\u001b[1;32m----> 2\u001b[0m \u001b[43mos\u001b[49m\u001b[38;5;241;43m.\u001b[39;49m\u001b[43mrename\u001b[49m\u001b[43m(\u001b[49m\u001b[43mfile_path\u001b[49m\u001b[43m,\u001b[49m\u001b[43m \u001b[49m\u001b[43mrenamed_file\u001b[49m\u001b[43m)\u001b[49m\n\u001b[0;32m      3\u001b[0m \u001b[38;5;28mprint\u001b[39m(\u001b[38;5;124mf\u001b[39m\u001b[38;5;124m\"\u001b[39m\u001b[38;5;130;01m\\n\u001b[39;00m\u001b[38;5;124mFile renamed to :- \u001b[39m\u001b[38;5;124m'\u001b[39m\u001b[38;5;132;01m{\u001b[39;00mrenamed_file\u001b[38;5;132;01m}\u001b[39;00m\u001b[38;5;124m'\u001b[39m\u001b[38;5;124m.\u001b[39m\u001b[38;5;124m\"\u001b[39m)\n",
      "\u001b[1;31mFileNotFoundError\u001b[0m: [WinError 2] The system cannot find the file specified: 'NewDirectory\\\\New.txt' -> 'NewDirectory\\\\New_Sanskartxt'"
     ]
    }
   ],
   "source": [
    "renamed_file = os.path.join(new_directory, \"New_Sanskartxt\")\n",
    "os.rename(file_path, renamed_file)\n",
    "print(f\"\\nFile renamed to :- '{renamed_file}'.\")"
   ]
  },
  {
   "cell_type": "code",
   "execution_count": 11,
   "metadata": {},
   "outputs": [
    {
     "name": "stdout",
     "output_type": "stream",
     "text": [
      "\n",
      "File renamed to :- 'NewDirectory\\New_Sanskartxt'.\n"
     ]
    }
   ],
   "source": [
    "print(f\"\\nFile renamed to :- '{renamed_file}'.\")"
   ]
  },
  {
   "cell_type": "code",
   "execution_count": 12,
   "metadata": {},
   "outputs": [
    {
     "name": "stdout",
     "output_type": "stream",
     "text": [
      "New_Sanskartxt\n"
     ]
    }
   ],
   "source": [
    "for item in os.listdir(new_directory):\n",
    "    print(item)"
   ]
  },
  {
   "cell_type": "code",
   "execution_count": 13,
   "metadata": {},
   "outputs": [],
   "source": [
    "shutil.rmtree(new_directory)"
   ]
  },
  {
   "cell_type": "code",
   "execution_count": 14,
   "metadata": {},
   "outputs": [
    {
     "name": "stdout",
     "output_type": "stream",
     "text": [
      "\n",
      "Directory 'NewDirectory' have been deleted.\n"
     ]
    }
   ],
   "source": [
    "print(f\"\\nDirectory '{new_directory}' have been deleted.\")"
   ]
  },
  {
   "cell_type": "code",
   "execution_count": null,
   "metadata": {},
   "outputs": [],
   "source": []
  }
 ],
 "metadata": {
  "kernelspec": {
   "display_name": "Python 3",
   "language": "python",
   "name": "python3"
  },
  "language_info": {
   "codemirror_mode": {
    "name": "ipython",
    "version": 3
   },
   "file_extension": ".py",
   "mimetype": "text/x-python",
   "name": "python",
   "nbconvert_exporter": "python",
   "pygments_lexer": "ipython3",
   "version": "3.10.5"
  }
 },
 "nbformat": 4,
 "nbformat_minor": 2
}
